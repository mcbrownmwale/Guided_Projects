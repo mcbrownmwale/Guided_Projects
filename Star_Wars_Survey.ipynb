{
 "cells": [
  {
   "cell_type": "markdown",
   "id": "4db2e840-90f8-487e-b243-f278a330e3da",
   "metadata": {},
   "source": [
    "# Star Wars Survey\n",
    "\n",
    "## Import Libraries and Read in Data into DataFrame"
   ]
  },
  {
   "cell_type": "code",
   "execution_count": 1,
   "id": "ec17d6f6-df98-4b9b-89fc-87ef96dfa47c",
   "metadata": {},
   "outputs": [
    {
     "data": {
      "text/html": [
       "<div>\n",
       "<style scoped>\n",
       "    .dataframe tbody tr th:only-of-type {\n",
       "        vertical-align: middle;\n",
       "    }\n",
       "\n",
       "    .dataframe tbody tr th {\n",
       "        vertical-align: top;\n",
       "    }\n",
       "\n",
       "    .dataframe thead th {\n",
       "        text-align: right;\n",
       "    }\n",
       "</style>\n",
       "<table border=\"1\" class=\"dataframe\">\n",
       "  <thead>\n",
       "    <tr style=\"text-align: right;\">\n",
       "      <th></th>\n",
       "      <th>RespondentID</th>\n",
       "      <th>Have you seen any of the 6 films in the Star Wars franchise?</th>\n",
       "      <th>Do you consider yourself to be a fan of the Star Wars film franchise?</th>\n",
       "      <th>Which of the following Star Wars films have you seen? Please select all that apply.</th>\n",
       "      <th>Unnamed: 4</th>\n",
       "      <th>Unnamed: 5</th>\n",
       "      <th>Unnamed: 6</th>\n",
       "      <th>Unnamed: 7</th>\n",
       "      <th>Unnamed: 8</th>\n",
       "      <th>Please rank the Star Wars films in order of preference with 1 being your favorite film in the franchise and 6 being your least favorite film.</th>\n",
       "      <th>...</th>\n",
       "      <th>Unnamed: 28</th>\n",
       "      <th>Which character shot first?</th>\n",
       "      <th>Are you familiar with the Expanded Universe?</th>\n",
       "      <th>Do you consider yourself to be a fan of the Expanded Universe?</th>\n",
       "      <th>Do you consider yourself to be a fan of the Star Trek franchise?</th>\n",
       "      <th>Gender</th>\n",
       "      <th>Age</th>\n",
       "      <th>Household Income</th>\n",
       "      <th>Education</th>\n",
       "      <th>Location (Census Region)</th>\n",
       "    </tr>\n",
       "  </thead>\n",
       "  <tbody>\n",
       "    <tr>\n",
       "      <th>0</th>\n",
       "      <td>3292879998</td>\n",
       "      <td>Yes</td>\n",
       "      <td>Yes</td>\n",
       "      <td>Star Wars: Episode I  The Phantom Menace</td>\n",
       "      <td>Star Wars: Episode II  Attack of the Clones</td>\n",
       "      <td>Star Wars: Episode III  Revenge of the Sith</td>\n",
       "      <td>Star Wars: Episode IV  A New Hope</td>\n",
       "      <td>Star Wars: Episode V The Empire Strikes Back</td>\n",
       "      <td>Star Wars: Episode VI Return of the Jedi</td>\n",
       "      <td>3.0</td>\n",
       "      <td>...</td>\n",
       "      <td>Very favorably</td>\n",
       "      <td>I don't understand this question</td>\n",
       "      <td>Yes</td>\n",
       "      <td>No</td>\n",
       "      <td>No</td>\n",
       "      <td>Male</td>\n",
       "      <td>18-29</td>\n",
       "      <td>NaN</td>\n",
       "      <td>High school degree</td>\n",
       "      <td>South Atlantic</td>\n",
       "    </tr>\n",
       "    <tr>\n",
       "      <th>1</th>\n",
       "      <td>3292879538</td>\n",
       "      <td>No</td>\n",
       "      <td>NaN</td>\n",
       "      <td>NaN</td>\n",
       "      <td>NaN</td>\n",
       "      <td>NaN</td>\n",
       "      <td>NaN</td>\n",
       "      <td>NaN</td>\n",
       "      <td>NaN</td>\n",
       "      <td>NaN</td>\n",
       "      <td>...</td>\n",
       "      <td>NaN</td>\n",
       "      <td>NaN</td>\n",
       "      <td>NaN</td>\n",
       "      <td>NaN</td>\n",
       "      <td>Yes</td>\n",
       "      <td>Male</td>\n",
       "      <td>18-29</td>\n",
       "      <td>$0 - $24,999</td>\n",
       "      <td>Bachelor degree</td>\n",
       "      <td>West South Central</td>\n",
       "    </tr>\n",
       "    <tr>\n",
       "      <th>2</th>\n",
       "      <td>3292765271</td>\n",
       "      <td>Yes</td>\n",
       "      <td>No</td>\n",
       "      <td>Star Wars: Episode I  The Phantom Menace</td>\n",
       "      <td>Star Wars: Episode II  Attack of the Clones</td>\n",
       "      <td>Star Wars: Episode III  Revenge of the Sith</td>\n",
       "      <td>NaN</td>\n",
       "      <td>NaN</td>\n",
       "      <td>NaN</td>\n",
       "      <td>1.0</td>\n",
       "      <td>...</td>\n",
       "      <td>Unfamiliar (N/A)</td>\n",
       "      <td>I don't understand this question</td>\n",
       "      <td>No</td>\n",
       "      <td>NaN</td>\n",
       "      <td>No</td>\n",
       "      <td>Male</td>\n",
       "      <td>18-29</td>\n",
       "      <td>$0 - $24,999</td>\n",
       "      <td>High school degree</td>\n",
       "      <td>West North Central</td>\n",
       "    </tr>\n",
       "    <tr>\n",
       "      <th>3</th>\n",
       "      <td>3292763116</td>\n",
       "      <td>Yes</td>\n",
       "      <td>Yes</td>\n",
       "      <td>Star Wars: Episode I  The Phantom Menace</td>\n",
       "      <td>Star Wars: Episode II  Attack of the Clones</td>\n",
       "      <td>Star Wars: Episode III  Revenge of the Sith</td>\n",
       "      <td>Star Wars: Episode IV  A New Hope</td>\n",
       "      <td>Star Wars: Episode V The Empire Strikes Back</td>\n",
       "      <td>Star Wars: Episode VI Return of the Jedi</td>\n",
       "      <td>5.0</td>\n",
       "      <td>...</td>\n",
       "      <td>Very favorably</td>\n",
       "      <td>I don't understand this question</td>\n",
       "      <td>No</td>\n",
       "      <td>NaN</td>\n",
       "      <td>Yes</td>\n",
       "      <td>Male</td>\n",
       "      <td>18-29</td>\n",
       "      <td>$100,000 - $149,999</td>\n",
       "      <td>Some college or Associate degree</td>\n",
       "      <td>West North Central</td>\n",
       "    </tr>\n",
       "    <tr>\n",
       "      <th>4</th>\n",
       "      <td>3292731220</td>\n",
       "      <td>Yes</td>\n",
       "      <td>Yes</td>\n",
       "      <td>Star Wars: Episode I  The Phantom Menace</td>\n",
       "      <td>Star Wars: Episode II  Attack of the Clones</td>\n",
       "      <td>Star Wars: Episode III  Revenge of the Sith</td>\n",
       "      <td>Star Wars: Episode IV  A New Hope</td>\n",
       "      <td>Star Wars: Episode V The Empire Strikes Back</td>\n",
       "      <td>Star Wars: Episode VI Return of the Jedi</td>\n",
       "      <td>5.0</td>\n",
       "      <td>...</td>\n",
       "      <td>Somewhat favorably</td>\n",
       "      <td>Greedo</td>\n",
       "      <td>Yes</td>\n",
       "      <td>No</td>\n",
       "      <td>No</td>\n",
       "      <td>Male</td>\n",
       "      <td>18-29</td>\n",
       "      <td>$100,000 - $149,999</td>\n",
       "      <td>Some college or Associate degree</td>\n",
       "      <td>West North Central</td>\n",
       "    </tr>\n",
       "    <tr>\n",
       "      <th>5</th>\n",
       "      <td>3292719380</td>\n",
       "      <td>Yes</td>\n",
       "      <td>Yes</td>\n",
       "      <td>Star Wars: Episode I  The Phantom Menace</td>\n",
       "      <td>Star Wars: Episode II  Attack of the Clones</td>\n",
       "      <td>Star Wars: Episode III  Revenge of the Sith</td>\n",
       "      <td>Star Wars: Episode IV  A New Hope</td>\n",
       "      <td>Star Wars: Episode V The Empire Strikes Back</td>\n",
       "      <td>Star Wars: Episode VI Return of the Jedi</td>\n",
       "      <td>1.0</td>\n",
       "      <td>...</td>\n",
       "      <td>Very favorably</td>\n",
       "      <td>Han</td>\n",
       "      <td>Yes</td>\n",
       "      <td>No</td>\n",
       "      <td>Yes</td>\n",
       "      <td>Male</td>\n",
       "      <td>18-29</td>\n",
       "      <td>$25,000 - $49,999</td>\n",
       "      <td>Bachelor degree</td>\n",
       "      <td>Middle Atlantic</td>\n",
       "    </tr>\n",
       "    <tr>\n",
       "      <th>6</th>\n",
       "      <td>3292684787</td>\n",
       "      <td>Yes</td>\n",
       "      <td>Yes</td>\n",
       "      <td>Star Wars: Episode I  The Phantom Menace</td>\n",
       "      <td>Star Wars: Episode II  Attack of the Clones</td>\n",
       "      <td>Star Wars: Episode III  Revenge of the Sith</td>\n",
       "      <td>Star Wars: Episode IV  A New Hope</td>\n",
       "      <td>Star Wars: Episode V The Empire Strikes Back</td>\n",
       "      <td>Star Wars: Episode VI Return of the Jedi</td>\n",
       "      <td>6.0</td>\n",
       "      <td>...</td>\n",
       "      <td>Very favorably</td>\n",
       "      <td>Han</td>\n",
       "      <td>Yes</td>\n",
       "      <td>No</td>\n",
       "      <td>No</td>\n",
       "      <td>Male</td>\n",
       "      <td>18-29</td>\n",
       "      <td>NaN</td>\n",
       "      <td>High school degree</td>\n",
       "      <td>East North Central</td>\n",
       "    </tr>\n",
       "    <tr>\n",
       "      <th>7</th>\n",
       "      <td>3292663732</td>\n",
       "      <td>Yes</td>\n",
       "      <td>Yes</td>\n",
       "      <td>Star Wars: Episode I  The Phantom Menace</td>\n",
       "      <td>Star Wars: Episode II  Attack of the Clones</td>\n",
       "      <td>Star Wars: Episode III  Revenge of the Sith</td>\n",
       "      <td>Star Wars: Episode IV  A New Hope</td>\n",
       "      <td>Star Wars: Episode V The Empire Strikes Back</td>\n",
       "      <td>Star Wars: Episode VI Return of the Jedi</td>\n",
       "      <td>4.0</td>\n",
       "      <td>...</td>\n",
       "      <td>Very favorably</td>\n",
       "      <td>Han</td>\n",
       "      <td>No</td>\n",
       "      <td>NaN</td>\n",
       "      <td>Yes</td>\n",
       "      <td>Male</td>\n",
       "      <td>18-29</td>\n",
       "      <td>NaN</td>\n",
       "      <td>High school degree</td>\n",
       "      <td>South Atlantic</td>\n",
       "    </tr>\n",
       "    <tr>\n",
       "      <th>8</th>\n",
       "      <td>3292654043</td>\n",
       "      <td>Yes</td>\n",
       "      <td>Yes</td>\n",
       "      <td>Star Wars: Episode I  The Phantom Menace</td>\n",
       "      <td>Star Wars: Episode II  Attack of the Clones</td>\n",
       "      <td>Star Wars: Episode III  Revenge of the Sith</td>\n",
       "      <td>Star Wars: Episode IV  A New Hope</td>\n",
       "      <td>Star Wars: Episode V The Empire Strikes Back</td>\n",
       "      <td>Star Wars: Episode VI Return of the Jedi</td>\n",
       "      <td>5.0</td>\n",
       "      <td>...</td>\n",
       "      <td>Somewhat favorably</td>\n",
       "      <td>Han</td>\n",
       "      <td>No</td>\n",
       "      <td>NaN</td>\n",
       "      <td>No</td>\n",
       "      <td>Male</td>\n",
       "      <td>18-29</td>\n",
       "      <td>$0 - $24,999</td>\n",
       "      <td>Some college or Associate degree</td>\n",
       "      <td>South Atlantic</td>\n",
       "    </tr>\n",
       "    <tr>\n",
       "      <th>9</th>\n",
       "      <td>3292640424</td>\n",
       "      <td>Yes</td>\n",
       "      <td>No</td>\n",
       "      <td>NaN</td>\n",
       "      <td>Star Wars: Episode II  Attack of the Clones</td>\n",
       "      <td>NaN</td>\n",
       "      <td>NaN</td>\n",
       "      <td>NaN</td>\n",
       "      <td>NaN</td>\n",
       "      <td>1.0</td>\n",
       "      <td>...</td>\n",
       "      <td>Very favorably</td>\n",
       "      <td>I don't understand this question</td>\n",
       "      <td>No</td>\n",
       "      <td>NaN</td>\n",
       "      <td>No</td>\n",
       "      <td>Male</td>\n",
       "      <td>18-29</td>\n",
       "      <td>$25,000 - $49,999</td>\n",
       "      <td>Some college or Associate degree</td>\n",
       "      <td>Pacific</td>\n",
       "    </tr>\n",
       "  </tbody>\n",
       "</table>\n",
       "<p>10 rows × 38 columns</p>\n",
       "</div>"
      ],
      "text/plain": [
       "   RespondentID Have you seen any of the 6 films in the Star Wars franchise?  \\\n",
       "0    3292879998                                                Yes             \n",
       "1    3292879538                                                 No             \n",
       "2    3292765271                                                Yes             \n",
       "3    3292763116                                                Yes             \n",
       "4    3292731220                                                Yes             \n",
       "5    3292719380                                                Yes             \n",
       "6    3292684787                                                Yes             \n",
       "7    3292663732                                                Yes             \n",
       "8    3292654043                                                Yes             \n",
       "9    3292640424                                                Yes             \n",
       "\n",
       "  Do you consider yourself to be a fan of the Star Wars film franchise?  \\\n",
       "0                                                Yes                      \n",
       "1                                                NaN                      \n",
       "2                                                 No                      \n",
       "3                                                Yes                      \n",
       "4                                                Yes                      \n",
       "5                                                Yes                      \n",
       "6                                                Yes                      \n",
       "7                                                Yes                      \n",
       "8                                                Yes                      \n",
       "9                                                 No                      \n",
       "\n",
       "  Which of the following Star Wars films have you seen? Please select all that apply.  \\\n",
       "0           Star Wars: Episode I  The Phantom Menace                                    \n",
       "1                                                NaN                                    \n",
       "2           Star Wars: Episode I  The Phantom Menace                                    \n",
       "3           Star Wars: Episode I  The Phantom Menace                                    \n",
       "4           Star Wars: Episode I  The Phantom Menace                                    \n",
       "5           Star Wars: Episode I  The Phantom Menace                                    \n",
       "6           Star Wars: Episode I  The Phantom Menace                                    \n",
       "7           Star Wars: Episode I  The Phantom Menace                                    \n",
       "8           Star Wars: Episode I  The Phantom Menace                                    \n",
       "9                                                NaN                                    \n",
       "\n",
       "                                    Unnamed: 4  \\\n",
       "0  Star Wars: Episode II  Attack of the Clones   \n",
       "1                                          NaN   \n",
       "2  Star Wars: Episode II  Attack of the Clones   \n",
       "3  Star Wars: Episode II  Attack of the Clones   \n",
       "4  Star Wars: Episode II  Attack of the Clones   \n",
       "5  Star Wars: Episode II  Attack of the Clones   \n",
       "6  Star Wars: Episode II  Attack of the Clones   \n",
       "7  Star Wars: Episode II  Attack of the Clones   \n",
       "8  Star Wars: Episode II  Attack of the Clones   \n",
       "9  Star Wars: Episode II  Attack of the Clones   \n",
       "\n",
       "                                    Unnamed: 5  \\\n",
       "0  Star Wars: Episode III  Revenge of the Sith   \n",
       "1                                          NaN   \n",
       "2  Star Wars: Episode III  Revenge of the Sith   \n",
       "3  Star Wars: Episode III  Revenge of the Sith   \n",
       "4  Star Wars: Episode III  Revenge of the Sith   \n",
       "5  Star Wars: Episode III  Revenge of the Sith   \n",
       "6  Star Wars: Episode III  Revenge of the Sith   \n",
       "7  Star Wars: Episode III  Revenge of the Sith   \n",
       "8  Star Wars: Episode III  Revenge of the Sith   \n",
       "9                                          NaN   \n",
       "\n",
       "                          Unnamed: 6  \\\n",
       "0  Star Wars: Episode IV  A New Hope   \n",
       "1                                NaN   \n",
       "2                                NaN   \n",
       "3  Star Wars: Episode IV  A New Hope   \n",
       "4  Star Wars: Episode IV  A New Hope   \n",
       "5  Star Wars: Episode IV  A New Hope   \n",
       "6  Star Wars: Episode IV  A New Hope   \n",
       "7  Star Wars: Episode IV  A New Hope   \n",
       "8  Star Wars: Episode IV  A New Hope   \n",
       "9                                NaN   \n",
       "\n",
       "                                     Unnamed: 7  \\\n",
       "0  Star Wars: Episode V The Empire Strikes Back   \n",
       "1                                           NaN   \n",
       "2                                           NaN   \n",
       "3  Star Wars: Episode V The Empire Strikes Back   \n",
       "4  Star Wars: Episode V The Empire Strikes Back   \n",
       "5  Star Wars: Episode V The Empire Strikes Back   \n",
       "6  Star Wars: Episode V The Empire Strikes Back   \n",
       "7  Star Wars: Episode V The Empire Strikes Back   \n",
       "8  Star Wars: Episode V The Empire Strikes Back   \n",
       "9                                           NaN   \n",
       "\n",
       "                                 Unnamed: 8  \\\n",
       "0  Star Wars: Episode VI Return of the Jedi   \n",
       "1                                       NaN   \n",
       "2                                       NaN   \n",
       "3  Star Wars: Episode VI Return of the Jedi   \n",
       "4  Star Wars: Episode VI Return of the Jedi   \n",
       "5  Star Wars: Episode VI Return of the Jedi   \n",
       "6  Star Wars: Episode VI Return of the Jedi   \n",
       "7  Star Wars: Episode VI Return of the Jedi   \n",
       "8  Star Wars: Episode VI Return of the Jedi   \n",
       "9                                       NaN   \n",
       "\n",
       "   Please rank the Star Wars films in order of preference with 1 being your favorite film in the franchise and 6 being your least favorite film.  \\\n",
       "0                                                3.0                                                                                               \n",
       "1                                                NaN                                                                                               \n",
       "2                                                1.0                                                                                               \n",
       "3                                                5.0                                                                                               \n",
       "4                                                5.0                                                                                               \n",
       "5                                                1.0                                                                                               \n",
       "6                                                6.0                                                                                               \n",
       "7                                                4.0                                                                                               \n",
       "8                                                5.0                                                                                               \n",
       "9                                                1.0                                                                                               \n",
       "\n",
       "   ...         Unnamed: 28       Which character shot first?  \\\n",
       "0  ...      Very favorably  I don't understand this question   \n",
       "1  ...                 NaN                               NaN   \n",
       "2  ...    Unfamiliar (N/A)  I don't understand this question   \n",
       "3  ...      Very favorably  I don't understand this question   \n",
       "4  ...  Somewhat favorably                            Greedo   \n",
       "5  ...      Very favorably                               Han   \n",
       "6  ...      Very favorably                               Han   \n",
       "7  ...      Very favorably                               Han   \n",
       "8  ...  Somewhat favorably                               Han   \n",
       "9  ...      Very favorably  I don't understand this question   \n",
       "\n",
       "   Are you familiar with the Expanded Universe?  \\\n",
       "0                                           Yes   \n",
       "1                                           NaN   \n",
       "2                                            No   \n",
       "3                                            No   \n",
       "4                                           Yes   \n",
       "5                                           Yes   \n",
       "6                                           Yes   \n",
       "7                                            No   \n",
       "8                                            No   \n",
       "9                                            No   \n",
       "\n",
       "   Do you consider yourself to be a fan of the Expanded Universe?  \\\n",
       "0                                                 No                \n",
       "1                                                NaN                \n",
       "2                                                NaN                \n",
       "3                                                NaN                \n",
       "4                                                 No                \n",
       "5                                                 No                \n",
       "6                                                 No                \n",
       "7                                                NaN                \n",
       "8                                                NaN                \n",
       "9                                                NaN                \n",
       "\n",
       "   Do you consider yourself to be a fan of the Star Trek franchise? Gender  \\\n",
       "0                                                 No                  Male   \n",
       "1                                                Yes                  Male   \n",
       "2                                                 No                  Male   \n",
       "3                                                Yes                  Male   \n",
       "4                                                 No                  Male   \n",
       "5                                                Yes                  Male   \n",
       "6                                                 No                  Male   \n",
       "7                                                Yes                  Male   \n",
       "8                                                 No                  Male   \n",
       "9                                                 No                  Male   \n",
       "\n",
       "     Age     Household Income                         Education  \\\n",
       "0  18-29                  NaN                High school degree   \n",
       "1  18-29         $0 - $24,999                   Bachelor degree   \n",
       "2  18-29         $0 - $24,999                High school degree   \n",
       "3  18-29  $100,000 - $149,999  Some college or Associate degree   \n",
       "4  18-29  $100,000 - $149,999  Some college or Associate degree   \n",
       "5  18-29    $25,000 - $49,999                   Bachelor degree   \n",
       "6  18-29                  NaN                High school degree   \n",
       "7  18-29                  NaN                High school degree   \n",
       "8  18-29         $0 - $24,999  Some college or Associate degree   \n",
       "9  18-29    $25,000 - $49,999  Some college or Associate degree   \n",
       "\n",
       "  Location (Census Region)  \n",
       "0           South Atlantic  \n",
       "1       West South Central  \n",
       "2       West North Central  \n",
       "3       West North Central  \n",
       "4       West North Central  \n",
       "5          Middle Atlantic  \n",
       "6       East North Central  \n",
       "7           South Atlantic  \n",
       "8           South Atlantic  \n",
       "9                  Pacific  \n",
       "\n",
       "[10 rows x 38 columns]"
      ]
     },
     "execution_count": 1,
     "metadata": {},
     "output_type": "execute_result"
    }
   ],
   "source": [
    "import pandas as pd\n",
    "import numpy as np\n",
    "import matplotlib.pyplot as plt\n",
    "import seaborn as sns\n",
    "import re\n",
    "\n",
    "star_wars = pd.read_csv('Data/star_wars.csv', encoding = 'ISO-8859-1')\n",
    "star_wars.head(10)"
   ]
  },
  {
   "cell_type": "markdown",
   "id": "70c64bb6-499d-4cd5-bcf9-837b8e7f1243",
   "metadata": {},
   "source": [
    "## Data Inspection"
   ]
  },
  {
   "cell_type": "code",
   "execution_count": 2,
   "id": "ad81baa7-a814-46ed-aa86-3884a917e250",
   "metadata": {},
   "outputs": [
    {
     "name": "stdout",
     "output_type": "stream",
     "text": [
      "RespondentID\n",
      "Have you seen any of the 6 films in the Star Wars franchise?\n",
      "Do you consider yourself to be a fan of the Star Wars film franchise?\n",
      "Which of the following Star Wars films have you seen? Please select all that apply.\n",
      "Unnamed: 4\n",
      "Unnamed: 5\n",
      "Unnamed: 6\n",
      "Unnamed: 7\n",
      "Unnamed: 8\n",
      "Please rank the Star Wars films in order of preference with 1 being your favorite film in the franchise and 6 being your least favorite film.\n",
      "Unnamed: 10\n",
      "Unnamed: 11\n",
      "Unnamed: 12\n",
      "Unnamed: 13\n",
      "Unnamed: 14\n",
      "Please state whether you view the following characters favorably, unfavorably, or are unfamiliar with him/her.\n",
      "Unnamed: 16\n",
      "Unnamed: 17\n",
      "Unnamed: 18\n",
      "Unnamed: 19\n",
      "Unnamed: 20\n",
      "Unnamed: 21\n",
      "Unnamed: 22\n",
      "Unnamed: 23\n",
      "Unnamed: 24\n",
      "Unnamed: 25\n",
      "Unnamed: 26\n",
      "Unnamed: 27\n",
      "Unnamed: 28\n",
      "Which character shot first?\n",
      "Are you familiar with the Expanded Universe?\n",
      "Do you consider yourself to be a fan of the Expanded Universe?\n",
      "Do you consider yourself to be a fan of the Star Trek franchise?\n",
      "Gender\n",
      "Age\n",
      "Household Income\n",
      "Education\n",
      "Location (Census Region)\n"
     ]
    }
   ],
   "source": [
    "# List column names\n",
    "for i in star_wars.columns:\n",
    "    print(i)"
   ]
  },
  {
   "cell_type": "code",
   "execution_count": 3,
   "id": "22481a6d-19b6-4a8f-942c-7f2eac569c10",
   "metadata": {},
   "outputs": [
    {
     "data": {
      "text/plain": [
       "(1186, 38)"
      ]
     },
     "execution_count": 3,
     "metadata": {},
     "output_type": "execute_result"
    }
   ],
   "source": [
    "# Data Dimension\n",
    "star_wars.shape"
   ]
  },
  {
   "cell_type": "markdown",
   "id": "9a2bb8cd-72eb-4a7d-b2a8-d36d3680ec57",
   "metadata": {},
   "source": [
    "## Cleaning and Mapping Yes/No Columns\n",
    "\n",
    "We will clean the following two columns to contain _True/False_ values from _Yes/No_ values.\n",
    "\n",
    "* `Have you seen any of the 6 films in the Star Wars franchise?`\n",
    "\n",
    "* `Do you consider yourself to be a fan of the Star Wars film franchise?`\n",
    "\n",
    "We will begin by viewing the unique values from the above mentioned columns."
   ]
  },
  {
   "cell_type": "code",
   "execution_count": 4,
   "id": "bd3a805f-547f-4937-b056-80de17d43eea",
   "metadata": {},
   "outputs": [
    {
     "data": {
      "text/plain": [
       "array(['Yes', 'No'], dtype=object)"
      ]
     },
     "execution_count": 4,
     "metadata": {},
     "output_type": "execute_result"
    }
   ],
   "source": [
    "# Inspect unique values for \"Have you seen any of the 6 films in the start Wars franchise\" column\n",
    "star_wars['Have you seen any of the 6 films in the Star Wars franchise?'].unique()"
   ]
  },
  {
   "cell_type": "code",
   "execution_count": 5,
   "id": "175d8e6f-3330-4899-aedd-a8de69bb4f83",
   "metadata": {},
   "outputs": [
    {
     "data": {
      "text/plain": [
       "array(['Yes', nan, 'No'], dtype=object)"
      ]
     },
     "execution_count": 5,
     "metadata": {},
     "output_type": "execute_result"
    }
   ],
   "source": [
    "# Inspect unique values for \"Do you consider yourself to be a fan of the Star Wars film franchise?\" column\n",
    "star_wars['Do you consider yourself to be a fan of the Star Wars film franchise?'].unique()"
   ]
  },
  {
   "cell_type": "markdown",
   "id": "753bdb65-b2fa-481f-818a-319ce416db9d",
   "metadata": {},
   "source": [
    "We can see that these first column has two unique values; **Yes** and **No**, while the ssecond column has three unique values; **Yes**, **No** and **nan**. **nan** in the second column is a representatio of **Not a Number** or missing values. We will convert the values to boolean values: **Yes** into **True** and **No** into **False**, **nan** values will remain as they are."
   ]
  },
  {
   "cell_type": "code",
   "execution_count": 6,
   "id": "b34fd0ff-b243-4da9-9813-f1b607ce9e1d",
   "metadata": {},
   "outputs": [
    {
     "name": "stdout",
     "output_type": "stream",
     "text": [
      "[ True False]\n",
      "[True nan False]\n"
     ]
    }
   ],
   "source": [
    "# Mapping dictionary\n",
    "yes_no_map = {'Yes': True, 'No': False}\n",
    "\n",
    "# Change the values\n",
    "star_wars['Have you seen any of the 6 films in the Star Wars franchise?'] = \\\n",
    "star_wars['Have you seen any of the 6 films in the Star Wars franchise?'].map(yes_no_map)\n",
    "star_wars['Do you consider yourself to be a fan of the Star Wars film franchise?'] = \\\n",
    "star_wars['Do you consider yourself to be a fan of the Star Wars film franchise?'].map(yes_no_map)\n",
    "\n",
    "# Display unique values to verify success of changes we made\n",
    "print(star_wars['Have you seen any of the 6 films in the Star Wars franchise?'].unique(),\\\n",
    "star_wars['Do you consider yourself to be a fan of the Star Wars film franchise?'].unique(), sep = '\\n')"
   ]
  },
  {
   "cell_type": "markdown",
   "id": "94c4d3ce-de11-4865-9f60-dccb0b5a2683",
   "metadata": {},
   "source": [
    "## Cleaning and Mapping Checkbox Columns\n",
    "\n",
    "For this activity, the following columns will be cleaned by changing their column names and their respective values. These columns contains answers for whether the respondent has watched a mentioned movie or not. If the value is the name of the movie then the respondent has watched the movie, otherwise he has not watched the movie. We will convert the values to contain **True* values for \"Yes I have watched the movie\" and **False** for otherwise. \n",
    "                                                                                                                                            \n",
    "These are the columns we will be dealing with:\n",
    "                                                                                                                                                        \n",
    "* `Which of the following Star Wars films have you seen? Please select all that apply`. — whether or not the respondent saw Star Wars: Episode I The Phantom Menace.\n",
    "    \n",
    "* `Unnamed: 4` — whether or not the respondent saw Star Wars: Episode II Attack of the Clones.\n",
    "* `Unnamed: 5` — whether or not the respondent saw Star Wars: Episode III Revenge of the Sith.\n",
    "* `Unnamed: 6` — whether or not the respondent saw Star Wars: Episode IV A New Hope.\n",
    "* `Unnamed: 7` — whether or not the respondent saw Star Wars: Episode V The Empire Strikes Back.\n",
    "* `Unnamed: 8` — whether or not the respondent saw Star Wars: Episode VI Return of the Jedi.\n",
    "\n",
    "We will first clean the column names but before we start cleaning the names we will have to view the contents of one column which will giude us how we can go about naming our columns."
   ]
  },
  {
   "cell_type": "code",
   "execution_count": 7,
   "id": "9782c188-8073-4155-854f-a1d212f4ac6e",
   "metadata": {},
   "outputs": [
    {
     "data": {
      "text/plain": [
       "array(['Star Wars: Episode I  The Phantom Menace', nan], dtype=object)"
      ]
     },
     "execution_count": 7,
     "metadata": {},
     "output_type": "execute_result"
    }
   ],
   "source": [
    "# Unique values for \"Which of the following Star Wars films have you seen? Please select all that apply.\"\n",
    "star_wars['Which of the following Star Wars films have you seen? Please select all that apply.'].unique()"
   ]
  },
  {
   "cell_type": "markdown",
   "id": "11cf5f02-900e-4b56-ab63-77cb3d487bcc",
   "metadata": {},
   "source": [
    "The columns contains the name of the movie and **nan** values. We name our columns as **seen_1**, **seen_2**, **seen_3**, **seen_4**, **seen_5** and **seen_6** respectively."
   ]
  },
  {
   "cell_type": "code",
   "execution_count": 8,
   "id": "420e13dd-e1b2-4040-bdfd-13e29b328a7e",
   "metadata": {},
   "outputs": [],
   "source": [
    "# Column names mapping\n",
    "column_names = {'Which of the following Star Wars films have you seen? Please select all that apply.': 'seen_1', \\\n",
    "                'Unnamed: 4': 'seen_2', 'Unnamed: 5': 'seen_3', 'Unnamed: 6': 'seen_4', 'Unnamed: 7': 'seen_5', 'Unnamed: 8': 'seen_6'}\n",
    "star_wars.rename(columns = column_names, inplace = True)"
   ]
  },
  {
   "cell_type": "markdown",
   "id": "39905b79-fccf-4098-bc2a-889b49f6cbb2",
   "metadata": {},
   "source": [
    "We have successfully cleaned the said column names. Let us now clean the values, but first, we will view the unique values for each of the above **6** cleaned columns."
   ]
  },
  {
   "cell_type": "code",
   "execution_count": 9,
   "id": "bc496c4f-ccbb-46f7-8197-fad296ebd383",
   "metadata": {},
   "outputs": [
    {
     "name": "stdout",
     "output_type": "stream",
     "text": [
      "['Star Wars: Episode I  The Phantom Menace' nan]\n",
      "['Star Wars: Episode II  Attack of the Clones' nan]\n",
      "['Star Wars: Episode III  Revenge of the Sith' nan]\n",
      "['Star Wars: Episode IV  A New Hope' nan]\n",
      "['Star Wars: Episode V The Empire Strikes Back' nan]\n",
      "['Star Wars: Episode VI Return of the Jedi' nan]\n"
     ]
    }
   ],
   "source": [
    "cols_list = ['seen_1', 'seen_2', 'seen_3', 'seen_4', 'seen_5', 'seen_6']\n",
    "for col in cols_list:\n",
    "    unique_values = star_wars[col].unique()\n",
    "    print(unique_values)"
   ]
  },
  {
   "cell_type": "markdown",
   "id": "e7bc4a28-6775-43f6-b5d3-71b4863e0d8a",
   "metadata": {},
   "source": [
    "We will use this output to create mappings for cleaning values."
   ]
  },
  {
   "cell_type": "code",
   "execution_count": 10,
   "id": "6259be07-6ef3-4818-81d3-b261f19237db",
   "metadata": {},
   "outputs": [
    {
     "name": "stdout",
     "output_type": "stream",
     "text": [
      "[ True False]\n",
      "[ True False]\n",
      "[ True False]\n",
      "[ True False]\n",
      "[ True False]\n",
      "[ True False]\n"
     ]
    }
   ],
   "source": [
    "# mappings\n",
    "mappings_list = [{'Star Wars: Episode I  The Phantom Menace':True, np.nan: False},\\\n",
    "{'Star Wars: Episode II  Attack of the Clones': True, np.nan: False},\\\n",
    "{'Star Wars: Episode III  Revenge of the Sith': True, np.nan: False},\\\n",
    "{'Star Wars: Episode IV  A New Hope': True, np.nan: False},\\\n",
    "{'Star Wars: Episode V The Empire Strikes Back': True, np.nan: False},\\\n",
    "{'Star Wars: Episode VI Return of the Jedi': True, np.nan: False}]\n",
    "\n",
    "# Change column values using the mappings\n",
    "for col, map in zip(cols_list, mappings_list):\n",
    "    star_wars[col] = star_wars[col].map(map)\n",
    "\n",
    "# Display the new unique values\n",
    "for i in cols_list:\n",
    "    print(star_wars[i].unique())"
   ]
  },
  {
   "cell_type": "markdown",
   "id": "5712ad56-30ab-4508-87a0-00f6f1d08e1d",
   "metadata": {},
   "source": [
    "We have successfully cleaned the **Checkbox** columns.\n",
    "\n",
    "## Cleaning the Ranking Columns\n",
    "\n",
    "In this section we will be cleaning **ranking** columns which contains data on how respondents ranked the movies. A rank of **1** is the best and the worst is a rank of **6**, a **nan** ranking means the respondent did respond to that question. The values in these columns are represented as **strings** or **objects**, our task is to convert them to numeric values and to convert column names to the ones we can easily recognise and interpret.\n",
    "\n",
    "We will be dealing with the following columns:\n",
    "\n",
    "* `Please rank the Star Wars films in order of preference with 1 being your favorite film in the franchise and 6 being your least favorite film.` - How much the respondent liked Star Wars: **Episode I The Phantom Menace**\n",
    "* `Unnamed: 10` — How much the respondent liked Star Wars: **Episode II Attack of the Clones**\n",
    "* `Unnamed: 11` — How much the respondent liked Star Wars: **Episode III Revenge of the Sith**\n",
    "* `Unnamed: 12` — How much the respondent liked Star Wars: **Episode IV A New Hope**\n",
    "* `Unnamed: 13` — How much the respondent liked Star Wars: **Episode V The Empire Strikes Back**\n",
    "* `Unnamed: 14` — How much the respondent liked Star Wars: **Episode VI Return of the Jedi**\n",
    "\n",
    "We will first change the column names to **ranking_1**, **ranking_2**, **ranking_3**, **ranking_4**, **ranking_5** and **ranking_6** respectively."
   ]
  },
  {
   "cell_type": "code",
   "execution_count": 11,
   "id": "dfb5d9a1-64fe-49af-bc15-d5c0d43adc20",
   "metadata": {},
   "outputs": [
    {
     "name": "stdout",
     "output_type": "stream",
     "text": [
      "ranking_1\n",
      "ranking_2\n",
      "ranking_3\n",
      "ranking_4\n",
      "ranking_5\n",
      "ranking_6\n"
     ]
    }
   ],
   "source": [
    "# A list of new column names\n",
    "new_column_names = ['ranking_1', 'ranking_2', 'ranking_3', 'ranking_4', 'ranking_5', 'ranking_6']\n",
    "\n",
    "# Channge column names\n",
    "for new_col, old_col in zip(new_column_names, star_wars.columns[9:15]):\n",
    "    star_wars.rename(columns = {old_col: new_col}, inplace = True)\n",
    "    \n",
    "# Display the new column names\n",
    "for i in star_wars.columns[9:15]:\n",
    "    print(i)    "
   ]
  },
  {
   "cell_type": "markdown",
   "id": "c6e57868-b63d-4192-92a5-a7f32848bd6b",
   "metadata": {},
   "source": [
    "We have successfully changed **Ranking** column names. Let us now change the **Datatypes** of these columns from object to **Floating Point** dtypes."
   ]
  },
  {
   "cell_type": "code",
   "execution_count": 12,
   "id": "91454fae-f106-41cd-b24b-2e8642b460e0",
   "metadata": {},
   "outputs": [
    {
     "name": "stdout",
     "output_type": "stream",
     "text": [
      "<class 'pandas.core.frame.DataFrame'>\n",
      "RangeIndex: 1186 entries, 0 to 1185\n",
      "Data columns (total 6 columns):\n",
      " #   Column     Non-Null Count  Dtype  \n",
      "---  ------     --------------  -----  \n",
      " 0   ranking_1  835 non-null    float64\n",
      " 1   ranking_2  836 non-null    float64\n",
      " 2   ranking_3  835 non-null    float64\n",
      " 3   ranking_4  836 non-null    float64\n",
      " 4   ranking_5  836 non-null    float64\n",
      " 5   ranking_6  836 non-null    float64\n",
      "dtypes: float64(6)\n",
      "memory usage: 55.7 KB\n"
     ]
    }
   ],
   "source": [
    "# Change data type\n",
    "star_wars[star_wars.columns[9:15]] = star_wars[star_wars.columns[9:15]].astype('float')\n",
    "\n",
    "# Display the new data types\n",
    "star_wars[star_wars.columns[9:15]].info()"
   ]
  },
  {
   "cell_type": "markdown",
   "id": "82d9d373-c6bc-45f4-bcf3-0b8c80a5d877",
   "metadata": {},
   "source": [
    "## Finding the Highest-Ranked Movie\n",
    "\n",
    "Now that we have succefully cleaned the ranking columns, we can easily find the highest ranked movie. We can achieve this by calculating the mean rank of every ranking column we have. The column with the lowest **mean** is the column representing the **Highest Ranked Movie**."
   ]
  },
  {
   "cell_type": "code",
   "execution_count": 13,
   "id": "8ab8fcba-690e-471d-96bd-48a5aa801ecf",
   "metadata": {},
   "outputs": [
    {
     "name": "stdout",
     "output_type": "stream",
     "text": [
      "The Mean for ranking_1 column is 3.7329341317365268.\n",
      "The Mean for ranking_2 column is 4.087320574162679.\n",
      "The Mean for ranking_3 column is 4.341317365269461.\n",
      "The Mean for ranking_4 column is 3.272727272727273.\n",
      "The Mean for ranking_5 column is 2.513157894736842.\n",
      "The Mean for ranking_6 column is 3.047846889952153.\n"
     ]
    }
   ],
   "source": [
    "for col in star_wars.columns[9:15]:\n",
    "    print(f\"The Mean for {col} column is {star_wars[col].mean()}.\")"
   ]
  },
  {
   "cell_type": "markdown",
   "id": "630a5902-f50f-4ad5-8e6d-662eb3e4088e",
   "metadata": {},
   "source": [
    "Column **ranking_5** is the column with the heighest ranking. This column represent **Star Wars: Episode V The Empire Strikes Back**.\n",
    "\n",
    "We can as well plot the rankings for each ranking column. We will display all the ranking in a single **figure** below:"
   ]
  },
  {
   "cell_type": "code",
   "execution_count": 14,
   "id": "ca02c011-0171-47d8-8e46-1837c6fbb808",
   "metadata": {},
   "outputs": [
    {
     "name": "stdout",
     "output_type": "stream",
     "text": [
      "   ranking_1  count\n",
      "0        4.0    237\n",
      "1        6.0    168\n",
      "2        3.0    130\n",
      "3        1.0    129\n",
      "4        5.0    100\n",
      "5        2.0     71\n"
     ]
    }
   ],
   "source": [
    "ranking_dict = {}\n",
    "for col in star_wars.columns[9:15]:\n",
    "    ranking_dict[col+'_count'] = star_wars[col].value_counts().reset_index()\n",
    "print(ranking_dict['ranking_1_count'])"
   ]
  },
  {
   "cell_type": "markdown",
   "id": "28ea4c85-8727-48ab-8db1-33211508f679",
   "metadata": {},
   "source": [
    "## Finding the Most Viewed Movie"
   ]
  },
  {
   "cell_type": "code",
   "execution_count": 15,
   "id": "90e3071a-44ac-4af7-8156-9e75fd930150",
   "metadata": {},
   "outputs": [
    {
     "name": "stdout",
     "output_type": "stream",
     "text": [
      "The number of views for seen_1 column is 673\n",
      "The number of views for seen_2 column is 571\n",
      "The number of views for seen_3 column is 550\n",
      "The number of views for seen_4 column is 607\n",
      "The number of views for seen_5 column is 758\n",
      "The number of views for seen_6 column is 738\n"
     ]
    }
   ],
   "source": [
    "seen_columns = [col for col in star_wars.columns if re.search(r\"seen_[1-6]\", col)]\n",
    "for col in seen_columns:\n",
    "    print(f\"The number of views for {col} column is {star_wars[col].sum()}\")"
   ]
  },
  {
   "cell_type": "code",
   "execution_count": 16,
   "id": "f69ab586-5ec3-4060-b8c4-5e79e9527370",
   "metadata": {},
   "outputs": [
    {
     "name": "stdout",
     "output_type": "stream",
     "text": [
      "seen_1    673\n",
      "seen_2    571\n",
      "seen_3    550\n",
      "seen_4    607\n",
      "seen_5    758\n",
      "seen_6    738\n",
      "dtype: int64\n"
     ]
    }
   ],
   "source": [
    "seen_df = star_wars[seen_columns]\n",
    "seen_sums = seen_df.sum()\n",
    "print(seen_sums)"
   ]
  },
  {
   "cell_type": "markdown",
   "id": "a162c75e-2b7d-4b8e-a72a-c367c5ce54de",
   "metadata": {},
   "source": [
    "The **seen** column with the heighest number of views is **seen_5** representing the same movies that is highly **ranked** - **Star Wars: Episode V The Empire Strikes back**.\n",
    "\n",
    "Let us plot our findings next:"
   ]
  },
  {
   "cell_type": "code",
   "execution_count": 17,
   "id": "75221dc9-cba9-476b-9770-c15be95d3eee",
   "metadata": {},
   "outputs": [
    {
     "data": {
      "image/png": "[encoded data removed]",
      "text/plain": [
       "<Figure size 640x480 with 6 Axes>"
      ]
     },
     "metadata": {},
     "output_type": "display_data"
    }
   ],
   "source": [
    "fig, axes = plt.subplots(3, 2)\n",
    "plt.show()"
   ]
  },
  {
   "cell_type": "markdown",
   "id": "1656f458-4ea3-4782-be72-7912be067d9d",
   "metadata": {},
   "source": [
    "##  Exploring the Data by Binary Segments\n",
    "\n",
    "Let us now devide our data into two DataFrames by gender. This will enable be able find which movies are popular by gender. Before dividing our data by gender, let us view the unique values in the `Gender` to check in how how many DataFrames we are going to divide our data into, which will be determined by how many gender are represented in our dataset."
   ]
  },
  {
   "cell_type": "code",
   "execution_count": 18,
   "id": "42fbac59-7066-4c77-8f4e-a97e17033340",
   "metadata": {},
   "outputs": [
    {
     "data": {
      "text/plain": [
       "array(['Male', nan, 'Female'], dtype=object)"
      ]
     },
     "execution_count": 18,
     "metadata": {},
     "output_type": "execute_result"
    }
   ],
   "source": [
    "star_wars['Gender'].unique()"
   ]
  },
  {
   "cell_type": "code",
   "execution_count": 19,
   "id": "485f9bb3-0e4d-4ff9-87be-b15a1e5d9044",
   "metadata": {},
   "outputs": [],
   "source": [
    "male_df = star_wars[star_wars['Gender'] == 'Male']\n",
    "female_df = star_wars[star_wars['Gender'] == 'Female']"
   ]
  },
  {
   "cell_type": "code",
   "execution_count": 20,
   "id": "cf4687df-4f80-41fa-8082-db4611f01805",
   "metadata": {},
   "outputs": [
    {
     "data": {
      "text/html": [
       "<div>\n",
       "<style scoped>\n",
       "    .dataframe tbody tr th:only-of-type {\n",
       "        vertical-align: middle;\n",
       "    }\n",
       "\n",
       "    .dataframe tbody tr th {\n",
       "        vertical-align: top;\n",
       "    }\n",
       "\n",
       "    .dataframe thead th {\n",
       "        text-align: right;\n",
       "    }\n",
       "</style>\n",
       "<table border=\"1\" class=\"dataframe\">\n",
       "  <thead>\n",
       "    <tr style=\"text-align: right;\">\n",
       "      <th></th>\n",
       "      <th>ranking_1</th>\n",
       "      <th>count</th>\n",
       "    </tr>\n",
       "  </thead>\n",
       "  <tbody>\n",
       "    <tr>\n",
       "      <th>0</th>\n",
       "      <td>4.0</td>\n",
       "      <td>237</td>\n",
       "    </tr>\n",
       "    <tr>\n",
       "      <th>1</th>\n",
       "      <td>6.0</td>\n",
       "      <td>168</td>\n",
       "    </tr>\n",
       "    <tr>\n",
       "      <th>2</th>\n",
       "      <td>3.0</td>\n",
       "      <td>130</td>\n",
       "    </tr>\n",
       "    <tr>\n",
       "      <th>3</th>\n",
       "      <td>1.0</td>\n",
       "      <td>129</td>\n",
       "    </tr>\n",
       "    <tr>\n",
       "      <th>4</th>\n",
       "      <td>5.0</td>\n",
       "      <td>100</td>\n",
       "    </tr>\n",
       "    <tr>\n",
       "      <th>5</th>\n",
       "      <td>2.0</td>\n",
       "      <td>71</td>\n",
       "    </tr>\n",
       "  </tbody>\n",
       "</table>\n",
       "</div>"
      ],
      "text/plain": [
       "   ranking_1  count\n",
       "0        4.0    237\n",
       "1        6.0    168\n",
       "2        3.0    130\n",
       "3        1.0    129\n",
       "4        5.0    100\n",
       "5        2.0     71"
      ]
     },
     "execution_count": 20,
     "metadata": {},
     "output_type": "execute_result"
    }
   ],
   "source": [
    "ranks = star_wars['ranking_1'].value_counts().reset_index()\n",
    "ranks"
   ]
  },
  {
   "cell_type": "code",
   "execution_count": 21,
   "id": "5f7f13af-99be-4c4a-bfc6-85fcb6d2ca40",
   "metadata": {},
   "outputs": [
    {
     "data": {
      "image/png": "[encoded data removed]",
      "text/plain": [
       "<Figure size 640x480 with 1 Axes>"
      ]
     },
     "metadata": {},
     "output_type": "display_data"
    }
   ],
   "source": [
    "plt.barh(width = ranks['count'], y = ranks['ranking_1'])\n",
    "plt.show()"
   ]
  },
  {
   "cell_type": "code",
   "execution_count": null,
   "id": "8e23ebc2",
   "metadata": {},
   "outputs": [],
   "source": []
  }
 ],
 "metadata": {
  "kernelspec": {
   "display_name": "base",
   "language": "python",
   "name": "python3"
  },
  "language_info": {
   "codemirror_mode": {
    "name": "ipython",
    "version": 3
   },
   "file_extension": ".py",
   "mimetype": "text/x-python",
   "name": "python",
   "nbconvert_exporter": "python",
   "pygments_lexer": "ipython3",
   "version": "3.12.7"
  }
 },
 "nbformat": 4,
 "nbformat_minor": 5
}
